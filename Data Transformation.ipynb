{
 "cells": [
  {
   "cell_type": "code",
   "execution_count": 1,
   "id": "a63e29e2",
   "metadata": {},
   "outputs": [],
   "source": [
    "#hyperparameter\n",
    "Timedegression = 0.995 \n",
    "CostOfMatch = 0.05"
   ]
  },
  {
   "cell_type": "code",
   "execution_count": 2,
   "id": "b5ca1baf",
   "metadata": {},
   "outputs": [],
   "source": [
    "#Create class for save object on horse , jockey \n",
    "class Horse:\n",
    "    def __init__(self, HorseID,HorseName,first_match_date,last_match_date):\n",
    "        self.HorseID = HorseID\n",
    "        self.HorseName = HorseName\n",
    "        self.ParticipateCount = 0\n",
    "        self.first_match_date = first_match_date\n",
    "        self.last_match_date = last_match_date\n",
    "        self.Score = 1000\n",
    "\n",
    "class Jockey:\n",
    "    JockeyID = 0  # Class-level variable to store the current ID\n",
    "    def __init__(self, JockeyName, first_match_date, last_match_date):\n",
    "        Jockey.JockeyID += 1  # Increment the class-level ID for the next object\n",
    "        self.JockeyID = Jockey.JockeyID  # Assign the current ID to the instance\n",
    "        self.JockeyName = JockeyName\n",
    "        self.ParticipateCount = 0\n",
    "        self.first_match_date = first_match_date\n",
    "        self.last_match_date = last_match_date\n",
    "        self.Score = 1000\n",
    "\n",
    "        "
   ]
  },
  {
   "cell_type": "code",
   "execution_count": 3,
   "id": "d60d698f",
   "metadata": {},
   "outputs": [],
   "source": [
    "import pandas as pd \n",
    "import numpy as np"
   ]
  },
  {
   "cell_type": "code",
   "execution_count": 4,
   "id": "d1d20201",
   "metadata": {},
   "outputs": [],
   "source": [
    "#Load Data from CSV\n",
    "RaceInformation = pd.read_csv(r\"C:\\Users\\guojiakai\\Desktop\\HKJC\\RaceInformation.csv\")\n",
    "RacePlaceData = pd.read_excel(r\"C:\\Users\\guojiakai\\Desktop\\HKJC\\output.xlsx\")"
   ]
  },
  {
   "cell_type": "code",
   "execution_count": 5,
   "id": "55eab404",
   "metadata": {},
   "outputs": [],
   "source": [
    "#Filter Out that are not in Class 1-5\n",
    "RacePlaceData =pd.merge(RacePlaceData, RaceInformation, on=['Date', 'Race'], how='inner')\n",
    "RacePlaceData = RacePlaceData.sort_values(by=[\"Date\", \"Race\"])\n",
    "# Add speed M/s in Dataframe\n",
    "RacePlaceData[\"M/s\"]=RacePlaceData['Distance'].str.extract('(\\d+)', expand=False).astype(float)/RacePlaceData[\"Finish Time\"]\n"
   ]
  },
  {
   "cell_type": "code",
   "execution_count": 7,
   "id": "482aa346",
   "metadata": {},
   "outputs": [
    {
     "data": {
      "text/plain": [
       "0        01/01/2010\n",
       "1        01/01/2010\n",
       "2        01/01/2010\n",
       "3        01/01/2010\n",
       "4        01/01/2010\n",
       "            ...    \n",
       "98999    31/10/2021\n",
       "99000    31/10/2021\n",
       "99001    31/10/2021\n",
       "99002    31/10/2021\n",
       "99003    31/10/2021\n",
       "Name: Date, Length: 113402, dtype: object"
      ]
     },
     "execution_count": 7,
     "metadata": {},
     "output_type": "execute_result"
    }
   ],
   "source": [
    "RacePlaceData[\"Date\"]"
   ]
  },
  {
   "cell_type": "code",
   "execution_count": 8,
   "id": "76820855",
   "metadata": {},
   "outputs": [],
   "source": [
    "#Change DateType\n",
    "RacePlaceData[\"Date\"] = pd.to_datetime(RacePlaceData[\"Date\"], format='%d/%m/%Y')"
   ]
  },
  {
   "cell_type": "code",
   "execution_count": 9,
   "id": "2f024320",
   "metadata": {},
   "outputs": [
    {
     "data": {
      "text/plain": [
       "Timestamp('2023-04-09 00:00:00')"
      ]
     },
     "execution_count": 9,
     "metadata": {},
     "output_type": "execute_result"
    }
   ],
   "source": []
  },
  {
   "cell_type": "code",
   "execution_count": 10,
   "id": "5d1e89f1",
   "metadata": {},
   "outputs": [],
   "source": [
    "#Create  dictionary to Store Jockey and Horse Object\n",
    "HorseList ={}\n",
    "JockeyList ={}\n",
    "#Create Date for looping \n",
    "Dates = sorted(pd.to_datetime(RacePlaceData[\"Date\"].unique()))"
   ]
  },
  {
   "cell_type": "code",
   "execution_count": 11,
   "id": "224e3af4",
   "metadata": {},
   "outputs": [
    {
     "name": "stderr",
     "output_type": "stream",
     "text": [
      "C:\\Users\\guojiakai\\AppData\\Local\\Temp\\ipykernel_7296\\578934058.py:41: DeprecationWarning: The truth value of an empty array is ambiguous. Returning False, but in future this will result in an error. Use `array.size > 0` to check that an array is not empty.\n",
      "  if  Place4Time-Place1Time < 0.1 :\n",
      "C:\\Users\\guojiakai\\AppData\\Local\\Temp\\ipykernel_7296\\578934058.py:51: DeprecationWarning: The truth value of an empty array is ambiguous. Returning False, but in future this will result in an error. Use `array.size > 0` to check that an array is not empty.\n",
      "  elif  Place2Time-Place1Time < 0.1 :\n",
      "C:\\Users\\guojiakai\\AppData\\Local\\Temp\\ipykernel_7296\\578934058.py:46: DeprecationWarning: The truth value of an empty array is ambiguous. Returning False, but in future this will result in an error. Use `array.size > 0` to check that an array is not empty.\n",
      "  elif  Place3Time-Place1Time < 0.1 :\n"
     ]
    }
   ],
   "source": [
    "#Loop of each Race Day\n",
    "for Date in Dates:\n",
    "    for HorseID in HorseList : #loop to deduct time value \n",
    "        HorseList[HorseID].Score*Timedegression\n",
    "    for JockeyName in JockeyList : #loop to deduct time value \n",
    "        JockeyList[JockeyName].Score*Timedegression   \n",
    "    for race in RacePlaceData[RacePlaceData[\"Date\"] == Date]['Race'].unique() : #Pool for each race\n",
    "        pool_Horse = 0\n",
    "        pool_Jockey = 0\n",
    "        JockeyPlace1Index = RacePlaceData.loc[(RacePlaceData[\"Date\"] == Date) & (RacePlaceData[\"Race\"] == race) & (RacePlaceData['Pla.'] == 1)][\"Jockey\"].values\n",
    "        Place1Index = RacePlaceData.loc[(RacePlaceData[\"Date\"] == Date) & (RacePlaceData[\"Race\"] == race) & (RacePlaceData['Pla.'] == 1)][\"Horse ID\"].values\n",
    "        Place1Time = RacePlaceData.loc[(RacePlaceData[\"Date\"] == Date) & (RacePlaceData[\"Race\"] == race) & (RacePlaceData['Pla.'] == 1)][\"Finish Time\"].unique()\n",
    "        JockeyPlace2Index = RacePlaceData.loc[(RacePlaceData[\"Date\"] == Date) & (RacePlaceData[\"Race\"] == race) & (RacePlaceData['Pla.'] == 2)][\"Jockey\"].values\n",
    "        Place2Index = RacePlaceData.loc[(RacePlaceData[\"Date\"] == Date) & (RacePlaceData[\"Race\"] == race) & (RacePlaceData['Pla.'] == 2)][\"Horse ID\"].values\n",
    "        Place2Time  = RacePlaceData.loc[(RacePlaceData[\"Date\"] == Date) & (RacePlaceData[\"Race\"] == race) & (RacePlaceData['Pla.'] == 2)][\"Finish Time\"].unique()\n",
    "        JockeyPlace3Index = RacePlaceData.loc[(RacePlaceData[\"Date\"] == Date) & (RacePlaceData[\"Race\"] == race) & (RacePlaceData['Pla.'] == 3)][\"Jockey\"].values\n",
    "        Place3Index = RacePlaceData.loc[(RacePlaceData[\"Date\"] == Date) & (RacePlaceData[\"Race\"] == race) & (RacePlaceData['Pla.'] == 3)][\"Horse ID\"].values\n",
    "        Place3Time = RacePlaceData.loc[(RacePlaceData[\"Date\"] == Date) & (RacePlaceData[\"Race\"] == race) & (RacePlaceData['Pla.'] == 3)][\"Finish Time\"].unique()\n",
    "        JockeyPlace4Index = RacePlaceData.loc[(RacePlaceData[\"Date\"] == Date) & (RacePlaceData[\"Race\"] == race) & (RacePlaceData['Pla.'] == 4)][\"Jockey\"].values\n",
    "        Place4Index = RacePlaceData.loc[(RacePlaceData[\"Date\"] == Date) & (RacePlaceData[\"Race\"] == race) & (RacePlaceData['Pla.'] == 4)][\"Horse ID\"].values\n",
    "        Place4Time = RacePlaceData.loc[(RacePlaceData[\"Date\"] == Date) & (RacePlaceData[\"Race\"] == race) & (RacePlaceData['Pla.'] == 4)][\"Finish Time\"].unique()\n",
    "        \n",
    "        for index,result in RacePlaceData[(RacePlaceData[\"Date\"] == Date) & (RacePlaceData[\"Race\"] == race)].iterrows():\n",
    "            if result[\"Jockey\"] not in JockeyList :    #Create Horse object\n",
    "                JockeyList[result[\"Jockey\"]] = Jockey(result[\"Jockey\"],Date,Date)\n",
    "            if result[\"Horse ID\"] not in HorseList :    #Create Horse object\n",
    "                HorseList[result[\"Horse ID\"]] = Horse(result[\"Horse ID\"],result[\"Horse Name\"],Date,Date)\n",
    "            RacePlaceData.loc[index,'Participate'] = HorseList[result[\"Horse ID\"]].ParticipateCount\n",
    "            RacePlaceData.loc[index,'HorseScore'] = HorseList[result[\"Horse ID\"]].Score\n",
    "            RacePlaceData.loc[index,'JockeyParticipate'] = JockeyList[result[\"Jockey\"]].ParticipateCount\n",
    "            RacePlaceData.loc[index,'JockeyScore'] = JockeyList[result[\"Jockey\"]].Score\n",
    "            \n",
    "            HorseList[result[\"Horse ID\"]].ParticipateCount = HorseList[result[\"Horse ID\"]].ParticipateCount +1 #Participate Count +1\n",
    "            JockeyList[result[\"Jockey\"]].ParticipateCount = JockeyList[result[\"Jockey\"]].ParticipateCount +1 #JockeyParticipate Count +1\n",
    "            pool_Horse  =   pool_Horse + HorseList[result[\"Horse ID\"]].Score *CostOfMatch   #Transfer Score to pool\n",
    "            pool_Jockey =   pool_Jockey + JockeyList[result[\"Jockey\"]].Score *CostOfMatch\n",
    "            HorseList[result[\"Horse ID\"]].Score = HorseList[result[\"Horse ID\"]].Score *(1-CostOfMatch)         \n",
    "            JockeyList[result[\"Jockey\"]].Score = JockeyList[result[\"Jockey\"]].Score *(1-CostOfMatch)\n",
    "            HorseList[result[\"Horse ID\"]].last_match_date = Date\n",
    "        try:\n",
    "            if  Place4Time-Place1Time < 0.1 :\n",
    "                HorseList[Place1Index[0]].Score += pool_Horse*0.25\n",
    "                HorseList[Place2Index[0]].Score += pool_Horse*0.25\n",
    "                HorseList[Place3Index[0]].Score += pool_Horse*0.25\n",
    "                HorseList[Place4Index[0]].Score += pool_Horse*0.25\n",
    "            elif  Place3Time-Place1Time < 0.1 :\n",
    "                HorseList[Place1Index[0]].Score += pool_Horse*0.3\n",
    "                HorseList[Place2Index[0]].Score += pool_Horse*0.3\n",
    "                HorseList[Place3Index[0]].Score += pool_Horse*0.3\n",
    "                HorseList[Place4Index[0]].Score += pool_Horse*0.1\n",
    "            elif  Place2Time-Place1Time < 0.1 :\n",
    "                HorseList[Place1Index[0]].Score += pool_Horse*0.35\n",
    "                HorseList[Place2Index[0]].Score += pool_Horse*0.35\n",
    "                HorseList[Place3Index[0]].Score += pool_Horse*0.2\n",
    "                HorseList[Place4Index[0]].Score += pool_Horse*0.1     \n",
    "            else  :\n",
    "                HorseList[Place1Index[0]].Score += pool_Horse*0.4\n",
    "                HorseList[Place2Index[0]].Score += pool_Horse*0.3\n",
    "                HorseList[Place3Index[0]].Score += pool_Horse*0.2\n",
    "                HorseList[Place4Index[0]].Score += pool_Horse*0.1      \n",
    "            if  Place4Time-Place1Time < 0.1 :\n",
    "                JockeyList[JockeyPlace1Index[0]].Score += pool_Jockey*0.25\n",
    "                JockeyList[JockeyPlace2Index[0]].Score += pool_Jockey*0.25\n",
    "                JockeyList[JockeyPlace3Index[0]].Score += pool_Jockey*0.25\n",
    "                JockeyList[JockeyPlace4Index[0]].Score += pool_Jockey*0.25\n",
    "            elif  Place3Time-Place1Time < 0.1 :\n",
    "                JockeyList[JockeyPlace1Index[0]].Score += pool_Jockey*0.3\n",
    "                JockeyList[JockeyPlace2Index[0]].Score += pool_Jockey*0.3\n",
    "                JockeyList[JockeyPlace3Index[0]].Score += pool_Jockey*0.3\n",
    "                JockeyList[JockeyPlace4Index[0]].Score += pool_Jockey*0.1\n",
    "            elif  Place2Time-Place1Time < 0.1 :\n",
    "                JockeyList[JockeyPlace1Index[0]].Score += pool_Jockey*0.35\n",
    "                JockeyList[JockeyPlace2Index[0]].Score += pool_Jockey*0.35\n",
    "                JockeyList[JockeyPlace3Index[0]].Score += pool_Jockey*0.2\n",
    "                JockeyList[JockeyPlace4Index[0]].Score += pool_Jockey*0.1     \n",
    "            else  :\n",
    "                JockeyList[JockeyPlace1Index[0]].Score += pool_Jockey*0.4\n",
    "                JockeyList[JockeyPlace2Index[0]].Score += pool_Jockey*0.3\n",
    "                JockeyList[JockeyPlace3Index[0]].Score += pool_Jockey*0.2\n",
    "                JockeyList[JockeyPlace4Index[0]].Score += pool_Jockey*0.1              \n",
    "        except IndexError:\n",
    "            pass\n",
    "                "
   ]
  },
  {
   "cell_type": "code",
   "execution_count": 16,
   "id": "d746edaa",
   "metadata": {},
   "outputs": [],
   "source": [
    "RacePlaceData=RacePlaceData[['Date','Race','Pla.','Horse Name','Horse ID','Jockey','Win Odds','Finish Time',\\\n",
    "               'M/s','Participate','HorseScore','JockeyParticipate','JockeyScore']]"
   ]
  },
  {
   "cell_type": "code",
   "execution_count": 17,
   "id": "cbf73be6",
   "metadata": {},
   "outputs": [],
   "source": [
    "HorseStatus = pd.DataFrame(columns=['Horse ID', 'Horse Name', ' Horse Participate Count',\"First Match\",\"Last Match\",\"Horse Score\"])\n",
    "i=1\n",
    "for horse in HorseList:\n",
    "    HorseStatus.loc[i]=[HorseList[horse].HorseID,HorseList[horse].HorseName,\\\n",
    "                        HorseList[horse].ParticipateCount,HorseList[horse].first_match_date,\\\n",
    "                        HorseList[horse].last_match_date,HorseList[horse].Score]\n",
    "    i += 1"
   ]
  },
  {
   "cell_type": "code",
   "execution_count": 18,
   "id": "6dffe7f5",
   "metadata": {},
   "outputs": [],
   "source": [
    "JockeyStatus = pd.DataFrame(columns=['Jockey ID', 'Jockey Name', 'Jockey Participate Count',\\\n",
    "                                     \"First Match\",\"Last Match\",\" Jockey Score\"])\n",
    "i=1\n",
    "for Jockey in JockeyList:\n",
    "    JockeyStatus.loc[i]=[JockeyList[Jockey].JockeyID,JockeyList[Jockey].JockeyName,\\\n",
    "                        JockeyList[Jockey].ParticipateCount,JockeyList[Jockey].first_match_date,\\\n",
    "                        JockeyList[Jockey].last_match_date,JockeyList[Jockey].Score]\n",
    "    i += 1"
   ]
  },
  {
   "cell_type": "code",
   "execution_count": 19,
   "id": "878ee841",
   "metadata": {
    "scrolled": true
   },
   "outputs": [
    {
     "name": "stderr",
     "output_type": "stream",
     "text": [
      "C:\\Users\\guojiakai\\AppData\\Local\\Temp\\ipykernel_7296\\3607406333.py:5: FutureWarning: save is not part of the public API, usage can give unexpected results and will be removed in a future version\n",
      "  writer.save()\n"
     ]
    }
   ],
   "source": [
    "writer = pd.ExcelWriter(r\"C:\\Users\\guojiakai\\Desktop\\HKJC\\FinalOutput.xlsx\")\n",
    "JockeyStatus.to_excel(writer, sheet_name='JockeyStatus', index=False)\n",
    "HorseStatus.to_excel(writer, sheet_name='HorseStatus', index=False)\n",
    "RacePlaceData.to_excel(writer, sheet_name='RacePlaceData', index=False)\n",
    "writer.save()"
   ]
  },
  {
   "cell_type": "code",
   "execution_count": null,
   "id": "2d0f53d6",
   "metadata": {},
   "outputs": [],
   "source": []
  },
  {
   "cell_type": "code",
   "execution_count": null,
   "id": "ce404796",
   "metadata": {},
   "outputs": [],
   "source": []
  }
 ],
 "metadata": {
  "kernelspec": {
   "display_name": "Python 3 (ipykernel)",
   "language": "python",
   "name": "python3"
  },
  "language_info": {
   "codemirror_mode": {
    "name": "ipython",
    "version": 3
   },
   "file_extension": ".py",
   "mimetype": "text/x-python",
   "name": "python",
   "nbconvert_exporter": "python",
   "pygments_lexer": "ipython3",
   "version": "3.10.9"
  }
 },
 "nbformat": 4,
 "nbformat_minor": 5
}
